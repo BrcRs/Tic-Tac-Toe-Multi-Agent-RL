{
  "nbformat": 4,
  "nbformat_minor": 5,
  "metadata": {
    "kernelspec": {
      "display_name": "Python 3 (Spyder)",
      "language": "python3",
      "name": "python3"
    },
    "language_info": {
      "codemirror_mode": {
        "name": "ipython",
        "version": 3
      },
      "file_extension": ".py",
      "mimetype": "text/x-python",
      "name": "python",
      "nbconvert_exporter": "python",
      "pygments_lexer": "ipython3",
      "version": "3.6.9"
    },
    "colab": {
      "name": "TicTacToe-II.ipynb",
      "provenance": [],
      "collapsed_sections": []
    }
  },
  "cells": [
    {
      "cell_type": "markdown",
      "metadata": {
        "id": "dOG7XBxnG1jj"
      },
      "source": [
        "# Multi-agent Reinforcement Learning using PettingZoo: Tic-tac-toe example part II\n",
        "\n",
        "*Gertjan Verhoeven*\n",
        "\n",
        "*March 2021*"
      ],
      "id": "dOG7XBxnG1jj"
    },
    {
      "cell_type": "markdown",
      "metadata": {
        "id": "xorfswcHH0Cp"
      },
      "source": [
        "## Installs"
      ],
      "id": "xorfswcHH0Cp"
    },
    {
      "cell_type": "code",
      "metadata": {
        "colab": {
          "base_uri": "https://localhost:8080/"
        },
        "id": "KfcGPdT2H3K-",
        "outputId": "a2baf139-8c9d-4899-f272-5acc3b936f4d"
      },
      "source": [
        "!apt-get install python3.9-venv\n",
        "\n",
        "# create venv\n",
        "!python3 -m venv marl-env\n",
        "# active venv\n",
        "!source marl-env/bin/activate\n",
        "# upgrade really old pip version on my system\n",
        "!pip install --upgrade pip\n",
        "# install packages\n",
        "!pip install pettingzoo[classic]\n",
        "!pip install spyder-notebook\n",
        "!pip install dill"
      ],
      "id": "KfcGPdT2H3K-",
      "execution_count": null,
      "outputs": [
        {
          "output_type": "stream",
          "name": "stdout",
          "text": [
            "Reading package lists... Done\n",
            "Building dependency tree       \n",
            "Reading state information... Done\n",
            "python3.9-venv is already the newest version (3.9.9-1+bionic2).\n",
            "0 upgraded, 0 newly installed, 0 to remove and 37 not upgraded.\n",
            "Error: Command '['/content/marl-env/bin/python3', '-Im', 'ensurepip', '--upgrade', '--default-pip']' returned non-zero exit status 1.\n",
            "/bin/bash: marl-env/bin/activate: No such file or directory\n",
            "Requirement already satisfied: pip in /usr/local/lib/python3.7/dist-packages (21.3.1)\n",
            "\u001b[33mWARNING: Running pip as the 'root' user can result in broken permissions and conflicting behaviour with the system package manager. It is recommended to use a virtual environment instead: https://pip.pypa.io/warnings/venv\u001b[0m\n",
            "Requirement already satisfied: pettingzoo[classic] in /usr/local/lib/python3.7/dist-packages (1.14.0)\n",
            "Requirement already satisfied: gym>=0.21.0 in /usr/local/lib/python3.7/dist-packages (from pettingzoo[classic]) (0.21.0)\n",
            "Requirement already satisfied: numpy>=1.18.0 in /usr/local/lib/python3.7/dist-packages (from pettingzoo[classic]) (1.19.5)\n",
            "Requirement already satisfied: rlcard==1.0.4 in /usr/local/lib/python3.7/dist-packages (from pettingzoo[classic]) (1.0.4)\n",
            "Requirement already satisfied: hanabi-learning-environment==0.0.1 in /usr/local/lib/python3.7/dist-packages (from pettingzoo[classic]) (0.0.1)\n",
            "Requirement already satisfied: pygame==2.1.0 in /usr/local/lib/python3.7/dist-packages (from pettingzoo[classic]) (2.1.0)\n",
            "Requirement already satisfied: chess==1.7.0 in /usr/local/lib/python3.7/dist-packages (from pettingzoo[classic]) (1.7.0)\n",
            "Requirement already satisfied: cffi in /usr/local/lib/python3.7/dist-packages (from hanabi-learning-environment==0.0.1->pettingzoo[classic]) (1.15.0)\n",
            "Requirement already satisfied: termcolor in /usr/local/lib/python3.7/dist-packages (from rlcard==1.0.4->pettingzoo[classic]) (1.1.0)\n",
            "Requirement already satisfied: cloudpickle>=1.2.0 in /usr/local/lib/python3.7/dist-packages (from gym>=0.21.0->pettingzoo[classic]) (1.3.0)\n",
            "Requirement already satisfied: importlib-metadata>=4.8.1 in /usr/local/lib/python3.7/dist-packages (from gym>=0.21.0->pettingzoo[classic]) (4.8.2)\n",
            "Requirement already satisfied: zipp>=0.5 in /usr/local/lib/python3.7/dist-packages (from importlib-metadata>=4.8.1->gym>=0.21.0->pettingzoo[classic]) (3.6.0)\n",
            "Requirement already satisfied: typing-extensions>=3.6.4 in /usr/local/lib/python3.7/dist-packages (from importlib-metadata>=4.8.1->gym>=0.21.0->pettingzoo[classic]) (3.10.0.2)\n",
            "Requirement already satisfied: pycparser in /usr/local/lib/python3.7/dist-packages (from cffi->hanabi-learning-environment==0.0.1->pettingzoo[classic]) (2.21)\n",
            "\u001b[33mWARNING: Running pip as the 'root' user can result in broken permissions and conflicting behaviour with the system package manager. It is recommended to use a virtual environment instead: https://pip.pypa.io/warnings/venv\u001b[0m\n",
            "Requirement already satisfied: spyder-notebook in /usr/local/lib/python3.7/dist-packages (0.3.2)\n",
            "Requirement already satisfied: requests in /usr/local/lib/python3.7/dist-packages (from spyder-notebook) (2.23.0)\n",
            "Requirement already satisfied: qdarkstyle in /usr/local/lib/python3.7/dist-packages (from spyder-notebook) (2.8.1)\n",
            "Requirement already satisfied: traitlets in /usr/local/lib/python3.7/dist-packages (from spyder-notebook) (5.1.1)\n",
            "Requirement already satisfied: jupyter-core in /usr/local/lib/python3.7/dist-packages (from spyder-notebook) (4.9.1)\n",
            "Requirement already satisfied: spyder<5,>=4.1 in /usr/local/lib/python3.7/dist-packages (from spyder-notebook) (4.2.5)\n",
            "Requirement already satisfied: jinja2 in /usr/local/lib/python3.7/dist-packages (from spyder-notebook) (2.11.3)\n",
            "Requirement already satisfied: qtpy in /usr/local/lib/python3.7/dist-packages (from spyder-notebook) (1.11.2)\n",
            "Requirement already satisfied: nbformat in /usr/local/lib/python3.7/dist-packages (from spyder-notebook) (5.1.3)\n",
            "Requirement already satisfied: notebook>=4.3 in /usr/local/lib/python3.7/dist-packages (from spyder-notebook) (5.3.1)\n",
            "Requirement already satisfied: jupyter-client>=5.2.0 in /usr/local/lib/python3.7/dist-packages (from notebook>=4.3->spyder-notebook) (5.3.5)\n",
            "Requirement already satisfied: ipython-genutils in /usr/local/lib/python3.7/dist-packages (from notebook>=4.3->spyder-notebook) (0.2.0)\n",
            "Requirement already satisfied: Send2Trash in /usr/local/lib/python3.7/dist-packages (from notebook>=4.3->spyder-notebook) (1.8.0)\n",
            "Requirement already satisfied: tornado>=4 in /usr/local/lib/python3.7/dist-packages (from notebook>=4.3->spyder-notebook) (5.1.1)\n",
            "Requirement already satisfied: ipykernel in /usr/local/lib/python3.7/dist-packages (from notebook>=4.3->spyder-notebook) (6.6.0)\n",
            "Requirement already satisfied: nbconvert in /usr/local/lib/python3.7/dist-packages (from notebook>=4.3->spyder-notebook) (5.6.1)\n",
            "Requirement already satisfied: terminado>=0.8.1 in /usr/local/lib/python3.7/dist-packages (from notebook>=4.3->spyder-notebook) (0.12.1)\n",
            "Requirement already satisfied: diff-match-patch>=20181111 in /usr/local/lib/python3.7/dist-packages (from spyder<5,>=4.1->spyder-notebook) (20200713)\n",
            "Requirement already satisfied: pyzmq>=17 in /usr/local/lib/python3.7/dist-packages (from spyder<5,>=4.1->spyder-notebook) (22.3.0)\n",
            "Requirement already satisfied: keyring>=17.0.0 in /usr/local/lib/python3.7/dist-packages (from spyder<5,>=4.1->spyder-notebook) (23.4.0)\n",
            "Requirement already satisfied: psutil>=5.3 in /usr/local/lib/python3.7/dist-packages (from spyder<5,>=4.1->spyder-notebook) (5.4.8)\n",
            "Requirement already satisfied: ipython>=7.6.0 in /usr/local/lib/python3.7/dist-packages (from spyder<5,>=4.1->spyder-notebook) (7.30.1)\n",
            "Requirement already satisfied: pickleshare>=0.4 in /usr/local/lib/python3.7/dist-packages (from spyder<5,>=4.1->spyder-notebook) (0.7.5)\n",
            "Requirement already satisfied: sphinx>=0.6.6 in /usr/local/lib/python3.7/dist-packages (from spyder<5,>=4.1->spyder-notebook) (1.8.6)\n",
            "Requirement already satisfied: qtconsole>=5.0.3 in /usr/local/lib/python3.7/dist-packages (from spyder<5,>=4.1->spyder-notebook) (5.2.1)\n",
            "Requirement already satisfied: setuptools>=39.0.0 in /usr/local/lib/python3.7/dist-packages (from spyder<5,>=4.1->spyder-notebook) (57.4.0)\n",
            "Requirement already satisfied: pyls-spyder>=0.3.2 in /usr/local/lib/python3.7/dist-packages (from spyder<5,>=4.1->spyder-notebook) (0.4.0)\n",
            "Requirement already satisfied: parso==0.7.0 in /usr/local/lib/python3.7/dist-packages (from spyder<5,>=4.1->spyder-notebook) (0.7.0)\n",
            "Requirement already satisfied: python-language-server[all]<1.0.0,>=0.36.2 in /usr/local/lib/python3.7/dist-packages (from spyder<5,>=4.1->spyder-notebook) (0.36.2)\n",
            "Requirement already satisfied: pyqt5<5.13 in /usr/local/lib/python3.7/dist-packages (from spyder<5,>=4.1->spyder-notebook) (5.12.3)\n",
            "Requirement already satisfied: chardet>=2.0.0 in /usr/local/lib/python3.7/dist-packages (from spyder<5,>=4.1->spyder-notebook) (3.0.4)\n",
            "Requirement already satisfied: textdistance>=4.2.0 in /usr/local/lib/python3.7/dist-packages (from spyder<5,>=4.1->spyder-notebook) (4.2.2)\n",
            "Requirement already satisfied: pygments>=2.0 in /usr/local/lib/python3.7/dist-packages (from spyder<5,>=4.1->spyder-notebook) (2.6.1)\n",
            "Requirement already satisfied: watchdog<2.0.0,>=0.10.3 in /usr/local/lib/python3.7/dist-packages (from spyder<5,>=4.1->spyder-notebook) (1.0.2)\n",
            "Requirement already satisfied: numpydoc>=0.6.0 in /usr/local/lib/python3.7/dist-packages (from spyder<5,>=4.1->spyder-notebook) (1.1.0)\n",
            "Requirement already satisfied: intervaltree>=3.0.2 in /usr/local/lib/python3.7/dist-packages (from spyder<5,>=4.1->spyder-notebook) (3.1.0)\n",
            "Requirement already satisfied: spyder-kernels<1.11.0,>=1.10.2 in /usr/local/lib/python3.7/dist-packages (from spyder<5,>=4.1->spyder-notebook) (1.10.3)\n",
            "Requirement already satisfied: pyls-black>=0.4.6 in /usr/local/lib/python3.7/dist-packages (from spyder<5,>=4.1->spyder-notebook) (0.4.7)\n",
            "Requirement already satisfied: jsonschema>=3.2.0 in /usr/local/lib/python3.7/dist-packages (from spyder<5,>=4.1->spyder-notebook) (4.2.1)\n",
            "Requirement already satisfied: three-merge>=0.1.1 in /usr/local/lib/python3.7/dist-packages (from spyder<5,>=4.1->spyder-notebook) (0.1.1)\n",
            "Requirement already satisfied: pyxdg>=0.26 in /usr/local/lib/python3.7/dist-packages (from spyder<5,>=4.1->spyder-notebook) (0.27)\n",
            "Requirement already satisfied: jedi==0.17.2 in /usr/local/lib/python3.7/dist-packages (from spyder<5,>=4.1->spyder-notebook) (0.17.2)\n",
            "Requirement already satisfied: atomicwrites>=1.2.0 in /usr/local/lib/python3.7/dist-packages (from spyder<5,>=4.1->spyder-notebook) (1.4.0)\n",
            "Requirement already satisfied: pexpect>=4.4.0 in /usr/local/lib/python3.7/dist-packages (from spyder<5,>=4.1->spyder-notebook) (4.8.0)\n",
            "Requirement already satisfied: pyqtwebengine<5.13 in /usr/local/lib/python3.7/dist-packages (from spyder<5,>=4.1->spyder-notebook) (5.12.1)\n",
            "Requirement already satisfied: pylint>=1.0 in /usr/local/lib/python3.7/dist-packages (from spyder<5,>=4.1->spyder-notebook) (2.12.2)\n",
            "Requirement already satisfied: cloudpickle>=0.5.0 in /usr/local/lib/python3.7/dist-packages (from spyder<5,>=4.1->spyder-notebook) (1.3.0)\n",
            "Requirement already satisfied: qtawesome>=0.5.7 in /usr/local/lib/python3.7/dist-packages (from spyder<5,>=4.1->spyder-notebook) (1.1.1)\n",
            "Requirement already satisfied: helpdev>=0.6.10 in /usr/local/lib/python3.7/dist-packages (from qdarkstyle->spyder-notebook) (0.7.1)\n",
            "Requirement already satisfied: MarkupSafe>=0.23 in /usr/local/lib/python3.7/dist-packages (from jinja2->spyder-notebook) (2.0.1)\n",
            "Requirement already satisfied: idna<3,>=2.5 in /usr/local/lib/python3.7/dist-packages (from requests->spyder-notebook) (2.10)\n",
            "Requirement already satisfied: urllib3!=1.25.0,!=1.25.1,<1.26,>=1.21.1 in /usr/local/lib/python3.7/dist-packages (from requests->spyder-notebook) (1.24.3)\n",
            "Requirement already satisfied: certifi>=2017.4.17 in /usr/local/lib/python3.7/dist-packages (from requests->spyder-notebook) (2021.10.8)\n",
            "Requirement already satisfied: importlib-metadata in /usr/local/lib/python3.7/dist-packages (from helpdev>=0.6.10->qdarkstyle->spyder-notebook) (4.8.2)\n",
            "Requirement already satisfied: sortedcontainers<3.0,>=2.0 in /usr/local/lib/python3.7/dist-packages (from intervaltree>=3.0.2->spyder<5,>=4.1->spyder-notebook) (2.4.0)\n",
            "Requirement already satisfied: matplotlib-inline in /usr/local/lib/python3.7/dist-packages (from ipython>=7.6.0->spyder<5,>=4.1->spyder-notebook) (0.1.3)\n",
            "Requirement already satisfied: backcall in /usr/local/lib/python3.7/dist-packages (from ipython>=7.6.0->spyder<5,>=4.1->spyder-notebook) (0.2.0)\n",
            "Requirement already satisfied: prompt-toolkit!=3.0.0,!=3.0.1,<3.1.0,>=2.0.0 in /usr/local/lib/python3.7/dist-packages (from ipython>=7.6.0->spyder<5,>=4.1->spyder-notebook) (3.0.24)\n",
            "Requirement already satisfied: decorator in /usr/local/lib/python3.7/dist-packages (from ipython>=7.6.0->spyder<5,>=4.1->spyder-notebook) (4.4.2)\n",
            "Requirement already satisfied: attrs>=17.4.0 in /usr/local/lib/python3.7/dist-packages (from jsonschema>=3.2.0->spyder<5,>=4.1->spyder-notebook) (21.2.0)\n",
            "Requirement already satisfied: importlib-resources>=1.4.0 in /usr/local/lib/python3.7/dist-packages (from jsonschema>=3.2.0->spyder<5,>=4.1->spyder-notebook) (5.4.0)\n",
            "Requirement already satisfied: pyrsistent!=0.17.0,!=0.17.1,!=0.17.2,>=0.14.0 in /usr/local/lib/python3.7/dist-packages (from jsonschema>=3.2.0->spyder<5,>=4.1->spyder-notebook) (0.18.0)\n",
            "Requirement already satisfied: python-dateutil>=2.1 in /usr/local/lib/python3.7/dist-packages (from jupyter-client>=5.2.0->notebook>=4.3->spyder-notebook) (2.8.2)\n",
            "Requirement already satisfied: jeepney>=0.4.2 in /usr/local/lib/python3.7/dist-packages (from keyring>=17.0.0->spyder<5,>=4.1->spyder-notebook) (0.7.1)\n",
            "Requirement already satisfied: SecretStorage>=3.2 in /usr/local/lib/python3.7/dist-packages (from keyring>=17.0.0->spyder<5,>=4.1->spyder-notebook) (3.3.1)\n",
            "Requirement already satisfied: entrypoints>=0.2.2 in /usr/local/lib/python3.7/dist-packages (from nbconvert->notebook>=4.3->spyder-notebook) (0.3)\n",
            "Requirement already satisfied: pandocfilters>=1.4.1 in /usr/local/lib/python3.7/dist-packages (from nbconvert->notebook>=4.3->spyder-notebook) (1.5.0)\n",
            "Requirement already satisfied: mistune<2,>=0.8.1 in /usr/local/lib/python3.7/dist-packages (from nbconvert->notebook>=4.3->spyder-notebook) (0.8.4)\n",
            "Requirement already satisfied: defusedxml in /usr/local/lib/python3.7/dist-packages (from nbconvert->notebook>=4.3->spyder-notebook) (0.7.1)\n",
            "Requirement already satisfied: testpath in /usr/local/lib/python3.7/dist-packages (from nbconvert->notebook>=4.3->spyder-notebook) (0.5.0)\n",
            "Requirement already satisfied: bleach in /usr/local/lib/python3.7/dist-packages (from nbconvert->notebook>=4.3->spyder-notebook) (4.1.0)\n",
            "Requirement already satisfied: ptyprocess>=0.5 in /usr/local/lib/python3.7/dist-packages (from pexpect>=4.4.0->spyder<5,>=4.1->spyder-notebook) (0.7.0)\n",
            "Requirement already satisfied: isort<6,>=4.2.5 in /usr/local/lib/python3.7/dist-packages (from pylint>=1.0->spyder<5,>=4.1->spyder-notebook) (5.10.1)\n",
            "Requirement already satisfied: platformdirs>=2.2.0 in /usr/local/lib/python3.7/dist-packages (from pylint>=1.0->spyder<5,>=4.1->spyder-notebook) (2.4.0)\n",
            "Requirement already satisfied: mccabe<0.7,>=0.6 in /usr/local/lib/python3.7/dist-packages (from pylint>=1.0->spyder<5,>=4.1->spyder-notebook) (0.6.1)\n",
            "Requirement already satisfied: typing-extensions>=3.10.0 in /usr/local/lib/python3.7/dist-packages (from pylint>=1.0->spyder<5,>=4.1->spyder-notebook) (3.10.0.2)\n",
            "Requirement already satisfied: toml>=0.9.2 in /usr/local/lib/python3.7/dist-packages (from pylint>=1.0->spyder<5,>=4.1->spyder-notebook) (0.10.2)\n",
            "Requirement already satisfied: astroid<2.10,>=2.9.0 in /usr/local/lib/python3.7/dist-packages (from pylint>=1.0->spyder<5,>=4.1->spyder-notebook) (2.9.0)\n",
            "Requirement already satisfied: black>=19.3b0 in /usr/local/lib/python3.7/dist-packages (from pyls-black>=0.4.6->spyder<5,>=4.1->spyder-notebook) (21.12b0)\n",
            "Requirement already satisfied: python-lsp-server>=1.0.1 in /usr/local/lib/python3.7/dist-packages (from pyls-spyder>=0.3.2->spyder<5,>=4.1->spyder-notebook) (1.3.3)\n",
            "Requirement already satisfied: PyQt5_sip<13,>=4.19.14 in /usr/local/lib/python3.7/dist-packages (from pyqt5<5.13->spyder<5,>=4.1->spyder-notebook) (12.9.0)\n",
            "Requirement already satisfied: python-jsonrpc-server>=0.4.0 in /usr/local/lib/python3.7/dist-packages (from python-language-server[all]<1.0.0,>=0.36.2->spyder<5,>=4.1->spyder-notebook) (0.4.0)\n",
            "Requirement already satisfied: ujson>=3.0.0 in /usr/local/lib/python3.7/dist-packages (from python-language-server[all]<1.0.0,>=0.36.2->spyder<5,>=4.1->spyder-notebook) (4.3.0)\n",
            "Requirement already satisfied: pluggy in /usr/local/lib/python3.7/dist-packages (from python-language-server[all]<1.0.0,>=0.36.2->spyder<5,>=4.1->spyder-notebook) (0.7.1)\n",
            "Requirement already satisfied: pydocstyle>=2.0.0 in /usr/local/lib/python3.7/dist-packages (from python-language-server[all]<1.0.0,>=0.36.2->spyder<5,>=4.1->spyder-notebook) (6.1.1)\n",
            "Requirement already satisfied: pycodestyle<2.7.0,>=2.6.0 in /usr/local/lib/python3.7/dist-packages (from python-language-server[all]<1.0.0,>=0.36.2->spyder<5,>=4.1->spyder-notebook) (2.6.0)\n",
            "Requirement already satisfied: pyflakes<2.3.0,>=2.2.0 in /usr/local/lib/python3.7/dist-packages (from python-language-server[all]<1.0.0,>=0.36.2->spyder<5,>=4.1->spyder-notebook) (2.2.0)\n",
            "Requirement already satisfied: autopep8 in /usr/local/lib/python3.7/dist-packages (from python-language-server[all]<1.0.0,>=0.36.2->spyder<5,>=4.1->spyder-notebook) (1.5.5)\n",
            "Requirement already satisfied: yapf in /usr/local/lib/python3.7/dist-packages (from python-language-server[all]<1.0.0,>=0.36.2->spyder<5,>=4.1->spyder-notebook) (0.31.0)\n",
            "Requirement already satisfied: rope>=0.10.5 in /usr/local/lib/python3.7/dist-packages (from python-language-server[all]<1.0.0,>=0.36.2->spyder<5,>=4.1->spyder-notebook) (0.22.0)\n",
            "Requirement already satisfied: flake8>=3.8.0 in /usr/local/lib/python3.7/dist-packages (from python-language-server[all]<1.0.0,>=0.36.2->spyder<5,>=4.1->spyder-notebook) (3.8.4)\n",
            "Requirement already satisfied: debugpy<2.0,>=1.0.0 in /usr/local/lib/python3.7/dist-packages (from ipykernel->notebook>=4.3->spyder-notebook) (1.0.0)\n",
            "Requirement already satisfied: argcomplete>=1.12.3 in /usr/local/lib/python3.7/dist-packages (from ipykernel->notebook>=4.3->spyder-notebook) (1.12.3)\n",
            "Requirement already satisfied: babel!=2.0,>=1.3 in /usr/local/lib/python3.7/dist-packages (from sphinx>=0.6.6->spyder<5,>=4.1->spyder-notebook) (2.9.1)\n",
            "Requirement already satisfied: six>=1.5 in /usr/local/lib/python3.7/dist-packages (from sphinx>=0.6.6->spyder<5,>=4.1->spyder-notebook) (1.15.0)\n",
            "Requirement already satisfied: imagesize in /usr/local/lib/python3.7/dist-packages (from sphinx>=0.6.6->spyder<5,>=4.1->spyder-notebook) (1.3.0)\n",
            "Requirement already satisfied: snowballstemmer>=1.1 in /usr/local/lib/python3.7/dist-packages (from sphinx>=0.6.6->spyder<5,>=4.1->spyder-notebook) (2.2.0)\n",
            "Requirement already satisfied: sphinxcontrib-websupport in /usr/local/lib/python3.7/dist-packages (from sphinx>=0.6.6->spyder<5,>=4.1->spyder-notebook) (1.2.4)\n",
            "Requirement already satisfied: alabaster<0.8,>=0.7 in /usr/local/lib/python3.7/dist-packages (from sphinx>=0.6.6->spyder<5,>=4.1->spyder-notebook) (0.7.12)\n",
            "Requirement already satisfied: docutils<0.18,>=0.11 in /usr/local/lib/python3.7/dist-packages (from sphinx>=0.6.6->spyder<5,>=4.1->spyder-notebook) (0.17.1)\n",
            "Requirement already satisfied: packaging in /usr/local/lib/python3.7/dist-packages (from sphinx>=0.6.6->spyder<5,>=4.1->spyder-notebook) (21.3)\n",
            "Requirement already satisfied: wurlitzer>=1.0.3 in /usr/local/lib/python3.7/dist-packages (from spyder-kernels<1.11.0,>=1.10.2->spyder<5,>=4.1->spyder-notebook) (3.0.2)\n",
            "Requirement already satisfied: typed-ast<2.0,>=1.4.0 in /usr/local/lib/python3.7/dist-packages (from astroid<2.10,>=2.9.0->pylint>=1.0->spyder<5,>=4.1->spyder-notebook) (1.5.1)\n",
            "Requirement already satisfied: lazy-object-proxy>=1.4.0 in /usr/local/lib/python3.7/dist-packages (from astroid<2.10,>=2.9.0->pylint>=1.0->spyder<5,>=4.1->spyder-notebook) (1.6.0)\n",
            "Requirement already satisfied: wrapt<1.14,>=1.11 in /usr/local/lib/python3.7/dist-packages (from astroid<2.10,>=2.9.0->pylint>=1.0->spyder<5,>=4.1->spyder-notebook) (1.13.3)\n",
            "Requirement already satisfied: pytz>=2015.7 in /usr/local/lib/python3.7/dist-packages (from babel!=2.0,>=1.3->sphinx>=0.6.6->spyder<5,>=4.1->spyder-notebook) (2018.9)\n",
            "Requirement already satisfied: pathspec<1,>=0.9.0 in /usr/local/lib/python3.7/dist-packages (from black>=19.3b0->pyls-black>=0.4.6->spyder<5,>=4.1->spyder-notebook) (0.9.0)\n",
            "Requirement already satisfied: tomli<2.0.0,>=0.2.6 in /usr/local/lib/python3.7/dist-packages (from black>=19.3b0->pyls-black>=0.4.6->spyder<5,>=4.1->spyder-notebook) (1.2.2)\n",
            "Requirement already satisfied: mypy-extensions>=0.4.3 in /usr/local/lib/python3.7/dist-packages (from black>=19.3b0->pyls-black>=0.4.6->spyder<5,>=4.1->spyder-notebook) (0.4.3)\n",
            "Requirement already satisfied: click>=7.1.2 in /usr/local/lib/python3.7/dist-packages (from black>=19.3b0->pyls-black>=0.4.6->spyder<5,>=4.1->spyder-notebook) (7.1.2)\n",
            "Requirement already satisfied: zipp>=0.5 in /usr/local/lib/python3.7/dist-packages (from importlib-metadata->helpdev>=0.6.10->qdarkstyle->spyder-notebook) (3.6.0)\n",
            "Requirement already satisfied: wcwidth in /usr/local/lib/python3.7/dist-packages (from prompt-toolkit!=3.0.0,!=3.0.1,<3.1.0,>=2.0.0->ipython>=7.6.0->spyder<5,>=4.1->spyder-notebook) (0.2.5)\n",
            "Requirement already satisfied: python-lsp-jsonrpc>=1.0.0 in /usr/local/lib/python3.7/dist-packages (from python-lsp-server>=1.0.1->pyls-spyder>=0.3.2->spyder<5,>=4.1->spyder-notebook) (1.0.0)\n",
            "Requirement already satisfied: cryptography>=2.0 in /usr/local/lib/python3.7/dist-packages (from SecretStorage>=3.2->keyring>=17.0.0->spyder<5,>=4.1->spyder-notebook) (36.0.0)\n",
            "Requirement already satisfied: webencodings in /usr/local/lib/python3.7/dist-packages (from bleach->nbconvert->notebook>=4.3->spyder-notebook) (0.5.1)\n",
            "Requirement already satisfied: pyparsing!=3.0.5,>=2.0.2 in /usr/local/lib/python3.7/dist-packages (from packaging->sphinx>=0.6.6->spyder<5,>=4.1->spyder-notebook) (3.0.6)\n",
            "Requirement already satisfied: sphinxcontrib-serializinghtml in /usr/local/lib/python3.7/dist-packages (from sphinxcontrib-websupport->sphinx>=0.6.6->spyder<5,>=4.1->spyder-notebook) (1.1.5)\n",
            "Requirement already satisfied: cffi>=1.12 in /usr/local/lib/python3.7/dist-packages (from cryptography>=2.0->SecretStorage>=3.2->keyring>=17.0.0->spyder<5,>=4.1->spyder-notebook) (1.15.0)\n",
            "Requirement already satisfied: pycparser in /usr/local/lib/python3.7/dist-packages (from cffi>=1.12->cryptography>=2.0->SecretStorage>=3.2->keyring>=17.0.0->spyder<5,>=4.1->spyder-notebook) (2.21)\n",
            "\u001b[33mWARNING: Running pip as the 'root' user can result in broken permissions and conflicting behaviour with the system package manager. It is recommended to use a virtual environment instead: https://pip.pypa.io/warnings/venv\u001b[0m\n",
            "Requirement already satisfied: dill in /usr/local/lib/python3.7/dist-packages (0.3.4)\n",
            "\u001b[33mWARNING: Running pip as the 'root' user can result in broken permissions and conflicting behaviour with the system package manager. It is recommended to use a virtual environment instead: https://pip.pypa.io/warnings/venv\u001b[0m\n"
          ]
        }
      ]
    },
    {
      "cell_type": "markdown",
      "metadata": {
        "id": "Vxd6Rj8GG1jn"
      },
      "source": [
        "Having learned the basics of PettingZoo, and how to use hashing with `defaultdict` to build up a Q-table, we are ready to implement Q-learning on the tic-tac-toe environment using PettingZoo. Before we get into the coding part, first some general remarks about Q-learning in a two-player alternating turn game."
      ],
      "id": "Vxd6Rj8GG1jn"
    },
    {
      "cell_type": "markdown",
      "metadata": {
        "id": "lEGtBc6BG1jo"
      },
      "source": [
        "# Training multi-agent games using single agent techniques\n",
        "\n",
        "Here we will train a multi-agent game using single agent Q-learning. This means that from the perspective of each player, the other player is part of the environment. It follows that the learned strategy of the first player is tuned to the strategy used by the second player. The second player's strategy can be thought of forming a part of the environment the first player learns to perform optimally in.\n",
        "\n",
        "Therefore, if we use Q-learning against a player that uses a random strategy, The Q-learner optimizes for play in an evironment **that contains a player that uses a random strategy**.\n",
        "\n",
        "Here, we let **both** players learn using Q-learning with constant learning parameter $\\alpha = 0.6$, and have them use the same decreasing $\\epsilon$ exploration rate. So both players start off playing randomly ($\\epsilon = 1$), and after 200.000 steps end up exploiting the learned policy for 97.5% of the time.\n",
        "\n",
        "\n",
        "We expect that this produces Q-tables for both players that perform well against random players and human players.\n"
      ],
      "id": "lEGtBc6BG1jo"
    },
    {
      "cell_type": "markdown",
      "metadata": {
        "id": "4iVXqWy8G1jq"
      },
      "source": [
        "# Q-learning with two players: remembering previous states and actions\n",
        "\n",
        "Many implementations of Q-learning for Tic-Tac-Toe play out a full game and memorize the sequence of states for both players. After a single game has ended, the \"Q-learning\" part is done in one go, starting from the end state en propagating back to the beginning. \n",
        "\n",
        "This is possible for Tic-Tac-Toe because no state is ever visited twice during a single game. However, this is not true for all games, so I think it is better to implement Q-learning in a more general way, where we learn each time the player \"steps\" through the game."
      ],
      "id": "4iVXqWy8G1jq"
    },
    {
      "cell_type": "markdown",
      "metadata": {
        "id": "SPqreC2qG1jr"
      },
      "source": [
        "In single agent RL using Gym, we start in a state, make a move, end up in a new state, and collect our reward. This allowed us to use variables like `current_state` and `next_state` within a single RL iteration for the Q-learning. \n",
        "\n",
        "In multi-agent (two player alternating turn, to be more precise), an agent observes a state, chooses an action, THEN hands over the turn, where the other agent observes the state, and chooses an action, then control returns to the first agent, which sees the result of its previous action, and finds itself in a new state.\n",
        "\n",
        "Thus, we need a way to store the previous state and previous action for each player to use Q-learning. We store these values in two simple dictionaries:"
      ],
      "id": "SPqreC2qG1jr"
    },
    {
      "cell_type": "code",
      "metadata": {
        "id": "UsQ7RVA-G1jr"
      },
      "source": [
        "prev_state = {'player_1': -1,\n",
        "              'player_2': -1}\n",
        "prev_action = {'player_1': -1,\n",
        "              'player_2': -1}"
      ],
      "id": "UsQ7RVA-G1jr",
      "execution_count": null,
      "outputs": []
    },
    {
      "cell_type": "markdown",
      "metadata": {
        "id": "wveGjlafG1jt"
      },
      "source": [
        "I went for two independent Q-tables, and player 1 always starts first (This is how the environment works). So we will end up with two Q-tables, one for the player going first, and one for the player going second. "
      ],
      "id": "wveGjlafG1jt"
    },
    {
      "cell_type": "markdown",
      "metadata": {
        "id": "X7-zOeazG1jt"
      },
      "source": [
        "# Coding Q-learning in PettingZoo step by step"
      ],
      "id": "X7-zOeazG1jt"
    },
    {
      "cell_type": "code",
      "metadata": {
        "id": "XCIZMr-AG1ju"
      },
      "source": [
        "from pettingzoo.classic import tictactoe_v3\n",
        "import random\n",
        "import numpy as np\n",
        "from collections import defaultdict\n",
        "import dill\n",
        "import matplotlib.pyplot as plt"
      ],
      "id": "XCIZMr-AG1ju",
      "execution_count": null,
      "outputs": []
    },
    {
      "cell_type": "markdown",
      "metadata": {
        "id": "jq1JyKXrG1jv"
      },
      "source": [
        "It is advisable to have the actual Q-learning and helper functions in a separate `marl_qlearning.py` python script, which we import and run code from in Jupyter notebook, i.e.:"
      ],
      "id": "jq1JyKXrG1jv"
    },
    {
      "cell_type": "code",
      "metadata": {
        "id": "yJIhmsypG1jw"
      },
      "source": [
        "# from marl_qlearning import *"
      ],
      "id": "yJIhmsypG1jw",
      "execution_count": null,
      "outputs": []
    },
    {
      "cell_type": "markdown",
      "metadata": {
        "id": "sEd3MIQmG1jx"
      },
      "source": [
        "We build on the code from the previous notebook.\n",
        "We already have `encode_state()` to convert the observation into a unique state label.\n"
      ],
      "id": "sEd3MIQmG1jx"
    },
    {
      "cell_type": "code",
      "metadata": {
        "id": "EX_m1_kyG1jx"
      },
      "source": [
        "import hashlib\n",
        "\n",
        "def encode_state(observation):\n",
        "    # encode observation as bytes           \n",
        "    obs_bytes = str(observation).encode('utf-8')\n",
        "    # create md5 hash\n",
        "    m = hashlib.md5(obs_bytes)\n",
        "    # return hash as hex digest\n",
        "    state = m.hexdigest()\n",
        "    return(state)"
      ],
      "id": "EX_m1_kyG1jx",
      "execution_count": null,
      "outputs": []
    },
    {
      "cell_type": "markdown",
      "metadata": {
        "id": "FUUbJYOCG1jx"
      },
      "source": [
        "\n",
        "## Exercise 1: Create epsilon_greedy_policy()\n",
        "\n",
        "We need a function that contains the epsilon-greedy policy functionality.\n",
        "\n",
        "Code a function `epsilon_greedy_policy()` that takes as arguments:\n",
        "\n",
        "* `nA`, number of actions\n",
        "* `Q`, the list of Q-table dictionaries for both players, indexed by agent and by state\n",
        "* `agent`, the agent currently acting\n",
        "* `action_mask`, containing the available actions in the current state\n",
        "* `state` , the hash of the current state\n",
        "* `eps`, the value of the exploration parameter epsilon\n",
        "\n",
        "(Hint: I used `Q[agent][state][action_mask == 1]` to select the Q-values of all available actions for an agent in a state)\n"
      ],
      "id": "FUUbJYOCG1jx"
    },
    {
      "cell_type": "code",
      "metadata": {
        "id": "F3vkH5c8G1jy"
      },
      "source": [
        "def epsilon_greedy_policy(nA, Q, agent, action_mask, state, eps):\n",
        "  if random.random() < eps:\n",
        "    # action = random action from action space\n",
        "    # action = random.choice(np.flatnonzero(observation['action_mask']))\n",
        "    # print(agent, \"chose a random action\")\n",
        "    action = random.choice([i for i in range(nA) if action_mask[i] == 1])\n",
        "  else:\n",
        "    # action = best action from Q = max_i(Q(S, i))\n",
        "    # np.flatnonzero(Q[agent][state][action_mask == 1])\n",
        "    action = max([i for i in range(nA) if action_mask[i] == 1], key = lambda x: Q[agent][state][x])\n",
        "  return action"
      ],
      "id": "F3vkH5c8G1jy",
      "execution_count": null,
      "outputs": []
    },
    {
      "cell_type": "markdown",
      "metadata": {
        "id": "GAVZv6deG1jy"
      },
      "source": [
        "## Exercise 2: Create update_Q_value()\n",
        "\n",
        "Code a function update_Q_value() that takes as arguments:\n",
        "\n",
        "* `Q`, the list of Q-table dictionaries for both players, indexed by agent and by state\n",
        "* `agent`, the agent currently acting\n",
        "* `previous_state`, the hash of the previous state\n",
        "* `previous_action`, the previous action\n",
        "* `reward`, the reward received since the previous action\n",
        "* `alpha`, the learning parameter\n",
        "* `gamma`, the discounting parameter\n",
        "* `current_state`, the hash value of the current state\n"
      ],
      "id": "GAVZv6deG1jy"
    },
    {
      "cell_type": "code",
      "metadata": {
        "id": "kX_Rvfx3G1jz"
      },
      "source": [
        "def update_Q_value(Q, agent, previous_state, previous_action, reward, alpha, gamma, current_state = None):\n",
        "    # Take action A, see reward and next state S'\n",
        "    # Q(S, A) += alpha * (reward + gamma * max_a(Q(S', a) - Q(S, A)))\n",
        "    Q[agent][previous_state][previous_action] += alpha * (reward + gamma * max([Q[agent][current_state][x] - Q[agent][previous_state][previous_action] for x in range(len(Q[agent][current_state]))]))\n",
        "    return Q"
      ],
      "id": "kX_Rvfx3G1jz",
      "execution_count": null,
      "outputs": []
    },
    {
      "cell_type": "markdown",
      "metadata": {
        "id": "uQn1XYRoG1jz"
      },
      "source": [
        "## Exercise 3: create marl_q_learning()\n",
        "\n",
        "Finally, the main program where all the parts come together.\n",
        "For this function, we built on the Pettingzoo code from the previous notebook.\n",
        "\n",
        "Code a function `marl_q_learning()` that takes as arguments\n",
        "\n",
        "* multi_env, a pettingzoo multi-agent environment\n",
        "* num_episodes, the number of episodes to run\n",
        "* alpha, the learning parameter\n",
        "* gamma, the discounting parameter with default 1\n",
        "* eps_start, the starting value for epsilon\n",
        "* eps_decay, the decay factor for epsilon\n",
        "* eps_min, the minimal value for epsilon\n"
      ],
      "id": "uQn1XYRoG1jz"
    },
    {
      "cell_type": "code",
      "source": [
        "def sma(series, length):\n",
        "  return [sum(series[i-length:i])/length for i in range(len(series)) if i >= length - 1]"
      ],
      "metadata": {
        "id": "X9-B2fe0_UOO"
      },
      "id": "X9-B2fe0_UOO",
      "execution_count": null,
      "outputs": []
    },
    {
      "cell_type": "code",
      "metadata": {
        "id": "udMFUEgpG1jz"
      },
      "source": [
        "def marl_q_learning(multi_env, num_episodes, alpha, gamma=1.0, \\\n",
        "                    eps_start=1.0, eps_decay=.99999, \\\n",
        "                        eps_min=0.025, plot=False, nbplot=100, nbplot_points=100, plot_sma_len=2, \\\n",
        "                    players_type={\"player_1\" : \"Q\", \"player_2\" : \"Q\"}, verbose=False):\n",
        "    \n",
        "    multi_env.reset()\n",
        "    Q = {}\n",
        "    y1=[]\n",
        "    y2=[]\n",
        "    for agent in multi_env.agents:    \n",
        "        nA = multi_env.action_spaces[agent].n\n",
        "        # print(multi_env.action_spaces[agent])\n",
        "        Q[agent] = defaultdict(lambda: np.zeros(nA))\n",
        "    # print(\"Q\", Q)\n",
        "    epsilon = eps_start\n",
        "\n",
        "    i_episode = 1    \n",
        "\n",
        "    prev_state = {'player_1': -1,\n",
        "                  'player_2': -1}\n",
        "    prev_action = {'player_1': -1,\n",
        "                  'player_2': -1}\n",
        "\n",
        "    # keeps iterating over active agents until num episode break\n",
        "    while i_episode <= num_episodes:\n",
        "        if i_episode % 1_000 == 0 and verbose:\n",
        "            print(\"Episode\", i_episode)\n",
        "            # print(\"Q\", Q)\n",
        "        for agent in multi_env.agent_iter():        \n",
        "            \n",
        "            # get observation (state) for current agent:\n",
        "            observation, reward, done, info = multi_env.last()\n",
        "\n",
        "            # store current state\n",
        "            state = encode_state(multi_env.render(mode = 'ansi'))\n",
        "            \n",
        "            # perform q-learning with update_Q_value()\n",
        "            # your code here\n",
        "            Q = update_Q_value(Q, agent, prev_state[agent], prev_action[agent], reward, alpha, gamma, current_state = state) # It should update it\n",
        "            \n",
        "            \n",
        "            prev_state[agent] = state\n",
        "            \n",
        "            if not done: \n",
        "                # choose action using epsilon_greedy_policy()\n",
        "                # your code here               \n",
        "                if players_type[agent] == \"Q\":\n",
        "                  action = epsilon_greedy_policy(nA, Q, agent, observation['action_mask'], state, epsilon)\n",
        "                elif players_type[agent] == \"random\":\n",
        "                  action = epsilon_greedy_policy(nA, Q, agent, observation['action_mask'], state, 1)\n",
        "                else:\n",
        "                  raise ValueError(\"Error: Unknown player type. Choose between 'Q' and 'random'\")\n",
        "\n",
        "                multi_env.step(action)\n",
        "                \n",
        "                # store chosen action\n",
        "                prev_action[agent] = action \n",
        "            else: \n",
        "                # agent is done\n",
        "                multi_env.step(None)\n",
        "\n",
        "        # reset env and memory\n",
        "        multi_env.reset()\n",
        "        prev_state = {'player_1': -1,\n",
        "                      'player_2': -1}\n",
        "        prev_action = {'player_1': -1,\n",
        "                       'player_2': -1}\n",
        "        \n",
        "        if(plot == True) and i_episode % (num_episodes/nbplot_points) == 0:\n",
        "          outcomes = test_policy(Q, nbplot, verbose=False)\n",
        "          y1.append(outcomes[\"player_1\"])\n",
        "          y2.append(outcomes[\"player_2\"])\n",
        "          # reset env and memory\n",
        "          multi_env.reset()\n",
        "          prev_state = {'player_1': -1,\n",
        "                        'player_2': -1}\n",
        "          prev_action = {'player_1': -1,\n",
        "                        'player_2': -1}\n",
        "          \n",
        "        # bump episode\n",
        "        i_episode += 1\n",
        "        # decrease epsilon\n",
        "        epsilon = max(epsilon*eps_decay, eps_min)\n",
        "\n",
        "    if(plot == True):\n",
        "      # plt.plot([i for i in range(1, nbplot_points)],[(y1[i] + y1[i-1])/2 for i in range(len(y1)) if i != 0]) # Moyenne mobile de longueur 2     \n",
        "      # plt.plot([i for i in range(1, nbplot_points)],[(y2[i] + y2[i-1])/2 for i in range(len(y2)) if i != 0])\n",
        "      len = plot_sma_len\n",
        "      sma1 = sma(y1, len)\n",
        "      sma2 = sma(y2, len)\n",
        "      plt.plot([i * num_episodes/nbplot_points for i in range(len - 1, nbplot_points)],sma1) # Moyenne mobile de longueur len\n",
        "      plt.plot([i * num_episodes/nbplot_points for i in range(len - 1, nbplot_points)],sma2)     \n",
        "    return Q"
      ],
      "id": "udMFUEgpG1jz",
      "execution_count": null,
      "outputs": []
    },
    {
      "cell_type": "markdown",
      "metadata": {
        "id": "9uYxqWh_G1j0"
      },
      "source": [
        "# Learning the optimal policy for Tic-Tac-Toe\n",
        "\n",
        "We run the Q-learning algorithm for 500.000 steps and use `dill` to save the Q dictionary to disk."
      ],
      "id": "9uYxqWh_G1j0"
    },
    {
      "cell_type": "code",
      "source": [
        "def learn(budget=500_000, plot=False, nbplot=10, nbplot_points=100, players_type={\"player_1\" : \"Q\", \"player_2\" : \"Q\"}, plot_sma_len=2):\n",
        "  # from marl_qlearning import *\n",
        "  # budget = 500_000\n",
        "  # budget = 50_000\n",
        "\n",
        "  env = tictactoe_v3.env()\n",
        "\n",
        "  random.seed(123)\n",
        "  fullrun = True\n",
        "  !mkdir cached\n",
        "  f = open('cached/Q.pkl', 'wb')\n",
        "  f.close()\n",
        "  if fullrun:\n",
        "      print(\"Fullrun\")\n",
        "      Q = marl_q_learning(env, budget, alpha = 0.6, gamma = 0.95, plot=plot, nbplot=nbplot, nbplot_points=nbplot_points, players_type=players_type, plot_sma_len=plot_sma_len)\n",
        "                            #  decay = True, render = False)\n",
        "      # print(Q)\n",
        "      # print(N)\n",
        "      with open('cached/Q.pkl', 'wb') as f:\n",
        "          dill.dump(Q, f)    \n",
        "\n",
        "  else:\n",
        "      print(\"Not Fullrun\")\n",
        "      with open('cached/Q.pkl', 'rb') as f:\n",
        "          Q = dill.load(f)\n",
        "  return Q "
      ],
      "metadata": {
        "id": "CtMAsXtXpn5b"
      },
      "id": "CtMAsXtXpn5b",
      "execution_count": null,
      "outputs": []
    },
    {
      "cell_type": "code",
      "metadata": {
        "id": "dDGQs_UBG1j0",
        "colab": {
          "base_uri": "https://localhost:8080/"
        },
        "outputId": "a17949e4-ae83-4665-fc81-5074ec162f1a"
      },
      "source": [
        "Q = learn(50000)"
      ],
      "id": "dDGQs_UBG1j0",
      "execution_count": null,
      "outputs": [
        {
          "output_type": "stream",
          "name": "stdout",
          "text": [
            "mkdir: cannot create directory ‘cached’: File exists\n",
            "Fullrun\n"
          ]
        },
        {
          "output_type": "stream",
          "name": "stderr",
          "text": [
            "/usr/local/lib/python3.7/dist-packages/pettingzoo/utils/wrappers/base.py:52: UserWarning: The `action_spaces` dictionary is deprecated. Use the `action_space` function instead.\n",
            "  warnings.warn(\"The `action_spaces` dictionary is deprecated. Use the `action_space` function instead.\")\n"
          ]
        }
      ]
    },
    {
      "cell_type": "markdown",
      "metadata": {
        "id": "F1fXW592G1j1"
      },
      "source": [
        "# Test the learned policy against a Random Player\n",
        "\n",
        "The original plan was to use the learned policy greedily for **both** players. However, this will result in deterministic moves on both sides, if for each state a single action has the highest Q-value. So this is not very informative about how good our AI players have become.\n",
        "\n",
        "Lets try out what it learned by playing a few thousand games fully exploiting the Q-table against a random playing opponent. From https://planspace.org/20191103-q_learning_tic_tac_toe_briefly/, we expect at least 93% wins. We do not expect 100% wins, because the random player can \"by accident\" play the right moves to obtain a draw, which is the best Player 2 can do. We do not expect Player 1 to lose. \n",
        "\n",
        "To do so I took the `marl_q_learning()` function, removed the Q-learning part and the epsilon decay part, and added a conditional step that sets epsilon to 0 if Player 1 chooses its action, and sets epsilon to 1 if Player 2 chooses its action. I named this function `test_policy()`. I managed to get an outcome with 93% wins for Player 1, and 7% draws. Curious if this is actually the best one can do for this game...\n",
        "\n",
        "\n",
        "\n"
      ],
      "id": "F1fXW592G1j1"
    },
    {
      "cell_type": "code",
      "metadata": {
        "id": "JMHQ15SygcXh"
      },
      "source": [
        "def test_policy(Q, num_episodes, verbose=False, players_type={\"player_1\" : \"Q\", \"player_2\" : \"random\"}, render=False):\n",
        "  # print(\"Q\", Q)\n",
        "  outcomes = {\"player_1\" : 0., \"player_2\" : 0.}\n",
        "  multi_env = tictactoe_v3.env()\n",
        "  multi_env.reset()\n",
        "  nA = multi_env.action_spaces['player_1'].n\n",
        "  i_episode = 1    \n",
        "\n",
        "  prev_state = {'player_1': -1,\n",
        "                'player_2': -1}\n",
        "  prev_action = {'player_1': -1,\n",
        "                'player_2': -1}\n",
        "\n",
        "  # keeps iterating over active agents until num episode break\n",
        "  while i_episode <= num_episodes:\n",
        "    if render:\n",
        "      print(\"-= Game\", i_episode, \"=-\")\n",
        "             \n",
        "    for agent in multi_env.agent_iter():        \n",
        "        \n",
        "      # get observation (state) for current agent:\n",
        "      observation, reward, done, info = multi_env.last()\n",
        "      \n",
        "      \n",
        "      # store current state\n",
        "      state = encode_state(multi_env.render(mode = 'ansi'))\n",
        "      prev_state[agent] = state\n",
        "      \n",
        "      if not done: \n",
        "        # choose action using epsilon_greedy_policy()\n",
        "        # your code here\n",
        "        if players_type[agent] == \"Q\":\n",
        "          # print(nA)\n",
        "          # print(Q)\n",
        "          # print(agent)\n",
        "          # print(observation['action_mask'])\n",
        "          # print(state)\n",
        "          # print(\"agent = player_1\")\n",
        "          # print(\"env.agent_selection =\", env.agent_selection)\n",
        "          action = epsilon_greedy_policy(nA, Q, agent, observation['action_mask'], state, 0)\n",
        "        else:\n",
        "          action = epsilon_greedy_policy(nA, Q, agent, observation['action_mask'], state, 1)\n",
        "\n",
        "        multi_env.step(action)\n",
        "        \n",
        "        # store chosen action\n",
        "        prev_action[agent] = action \n",
        "      else: \n",
        "        # agent is done\n",
        "        multi_env.step(None)\n",
        "      if render:\n",
        "        multi_env.render()\n",
        "        print()\n",
        "      outcomes[agent] += max(reward, 0)\n",
        "\n",
        "      # if i_episode == num_episodes:\n",
        "      #   env.render() # this visualizes a single game               \n",
        "    # reset env and memory\n",
        "    multi_env.reset()\n",
        "    prev_state = {'player_1': -1,\n",
        "                  'player_2': -1}\n",
        "    prev_action = {'player_1': -1,\n",
        "                    'player_2': -1}\n",
        "    # bump episode\n",
        "    i_episode += 1\n",
        "\n",
        "  p1 = 100*(outcomes[\"player_1\"]/num_episodes)\n",
        "  p2 = 100*(outcomes[\"player_2\"]/num_episodes)\n",
        "  draw =100*((num_episodes - outcomes[\"player_1\"] - outcomes[\"player_2\"])/num_episodes)\n",
        "  if verbose:\n",
        "    print(\"The first player wins\", p1,\"% of the time, the second player wins\", p2,\"% of the time, and the game is a draw\", draw,\"% of the time.\")\n",
        "    print(\"Total :\", p1 + p2 + draw, \"%\")\n",
        "  return outcomes"
      ],
      "id": "JMHQ15SygcXh",
      "execution_count": null,
      "outputs": []
    },
    {
      "cell_type": "code",
      "metadata": {
        "colab": {
          "base_uri": "https://localhost:8080/",
          "height": 338
        },
        "id": "kW22DRZdqwT8",
        "outputId": "cb058d88-30d1-4c2d-f1e1-117aaac8a7f3"
      },
      "source": [
        "Q = learn(50_000, plot=True, nbplot_points=1000, nbplot=10, plot_sma_len=20)"
      ],
      "id": "kW22DRZdqwT8",
      "execution_count": null,
      "outputs": [
        {
          "output_type": "stream",
          "name": "stdout",
          "text": [
            "mkdir: cannot create directory ‘cached’: File exists\n",
            "Fullrun\n"
          ]
        },
        {
          "output_type": "stream",
          "name": "stderr",
          "text": [
            "/usr/local/lib/python3.7/dist-packages/pettingzoo/utils/wrappers/base.py:52: UserWarning: The `action_spaces` dictionary is deprecated. Use the `action_space` function instead.\n",
            "  warnings.warn(\"The `action_spaces` dictionary is deprecated. Use the `action_space` function instead.\")\n"
          ]
        },
        {
          "output_type": "display_data",
          "data": {
            "image/png": "[encoded data removed]",
            "text/plain": [
              "<Figure size 432x288 with 1 Axes>"
            ]
          },
          "metadata": {
            "needs_background": "light"
          }
        }
      ]
    },
    {
      "cell_type": "markdown",
      "source": [
        "### Trained player 1 against random player 2"
      ],
      "metadata": {
        "id": "pTufTNn5jSQJ"
      },
      "id": "pTufTNn5jSQJ"
    },
    {
      "cell_type": "code",
      "metadata": {
        "colab": {
          "base_uri": "https://localhost:8080/"
        },
        "id": "qLy6jGQ8fpO1",
        "outputId": "edc62fde-2b45-499e-b748-0ae37d1eba8b"
      },
      "source": [
        "# Joueur 1 entrainé contre j2 aléatoire\n",
        "test_policy(Q, 5_000, verbose=True)\n"
      ],
      "id": "qLy6jGQ8fpO1",
      "execution_count": null,
      "outputs": [
        {
          "output_type": "stream",
          "name": "stderr",
          "text": [
            "/usr/local/lib/python3.7/dist-packages/pettingzoo/utils/wrappers/base.py:52: UserWarning: The `action_spaces` dictionary is deprecated. Use the `action_space` function instead.\n",
            "  warnings.warn(\"The `action_spaces` dictionary is deprecated. Use the `action_space` function instead.\")\n"
          ]
        },
        {
          "output_type": "stream",
          "name": "stdout",
          "text": [
            "The first player wins 98.61999999999999 % of the time, the second player wins 0.0 % of the time, and the game is a draw 1.38 % of the time.\n",
            "Total : 99.99999999999999 %\n"
          ]
        },
        {
          "output_type": "execute_result",
          "data": {
            "text/plain": [
              "{'player_1': 4931.0, 'player_2': 0.0}"
            ]
          },
          "metadata": {},
          "execution_count": 26
        }
      ]
    },
    {
      "cell_type": "code",
      "metadata": {
        "colab": {
          "base_uri": "https://localhost:8080/"
        },
        "id": "lIFlexPgjxvn",
        "outputId": "84c11e8a-90f4-4521-9b40-33f6ea0f345c"
      },
      "source": [
        "test_policy(Q, 50_000, verbose=True)"
      ],
      "id": "lIFlexPgjxvn",
      "execution_count": null,
      "outputs": [
        {
          "output_type": "stream",
          "name": "stderr",
          "text": [
            "/usr/local/lib/python3.7/dist-packages/pettingzoo/utils/wrappers/base.py:52: UserWarning: The `action_spaces` dictionary is deprecated. Use the `action_space` function instead.\n",
            "  warnings.warn(\"The `action_spaces` dictionary is deprecated. Use the `action_space` function instead.\")\n"
          ]
        },
        {
          "output_type": "stream",
          "name": "stdout",
          "text": [
            "The first player wins 98.662 % of the time, the second player wins 0.0 % of the time, and the game is a draw 1.3379999999999999 % of the time.\n",
            "Total : 100.0 %\n"
          ]
        },
        {
          "output_type": "execute_result",
          "data": {
            "text/plain": [
              "{'player_1': 49331.0, 'player_2': 0.0}"
            ]
          },
          "metadata": {},
          "execution_count": 27
        }
      ]
    },
    {
      "cell_type": "markdown",
      "source": [
        "### Trained vs trained"
      ],
      "metadata": {
        "id": "pZC2bGw8jWl5"
      },
      "id": "pZC2bGw8jWl5"
    },
    {
      "cell_type": "code",
      "source": [
        "test_policy(Q, 5_000, verbose=True, players_type={'player_1' : 'Q', 'player_2' : 'Q'})"
      ],
      "metadata": {
        "colab": {
          "base_uri": "https://localhost:8080/"
        },
        "id": "ISTSGxfDjU5R",
        "outputId": "6f899c46-4d0e-46cf-b012-9d4e385f135a"
      },
      "id": "ISTSGxfDjU5R",
      "execution_count": null,
      "outputs": [
        {
          "output_type": "stream",
          "name": "stderr",
          "text": [
            "/usr/local/lib/python3.7/dist-packages/pettingzoo/utils/wrappers/base.py:52: UserWarning: The `action_spaces` dictionary is deprecated. Use the `action_space` function instead.\n",
            "  warnings.warn(\"The `action_spaces` dictionary is deprecated. Use the `action_space` function instead.\")\n"
          ]
        },
        {
          "output_type": "stream",
          "name": "stdout",
          "text": [
            "The first player wins 100.0 % of the time, the second player wins 0.0 % of the time, and the game is a draw 0.0 % of the time.\n",
            "Total : 100.0 %\n"
          ]
        },
        {
          "output_type": "execute_result",
          "data": {
            "text/plain": [
              "{'player_1': 5000.0, 'player_2': 0.0}"
            ]
          },
          "metadata": {},
          "execution_count": 28
        }
      ]
    },
    {
      "cell_type": "code",
      "source": [
        "test_policy(Q, 2, verbose=True, players_type={'player_1' : 'Q', 'player_2' : 'Q'}, render=True)"
      ],
      "metadata": {
        "colab": {
          "base_uri": "https://localhost:8080/"
        },
        "id": "MewnDtbpn6zY",
        "outputId": "384214ad-dae2-4e8a-dd16-1929e6b767f9"
      },
      "id": "MewnDtbpn6zY",
      "execution_count": null,
      "outputs": [
        {
          "output_type": "stream",
          "name": "stdout",
          "text": [
            "-= Game 1 =-\n",
            "     |     |     \n",
            "  -  |  -  |  -  \n",
            "_____|_____|_____\n",
            "     |     |     \n",
            "  -  |  -  |  -  \n",
            "_____|_____|_____\n",
            "     |     |     \n",
            "  X  |  -  |  -  \n",
            "     |     |     \n",
            "\n",
            "     |     |     \n",
            "  -  |  -  |  -  \n",
            "_____|_____|_____\n",
            "     |     |     \n",
            "  -  |  -  |  O  \n",
            "_____|_____|_____\n",
            "     |     |     \n",
            "  X  |  -  |  -  \n",
            "     |     |     \n",
            "\n",
            "     |     |     \n",
            "  -  |  -  |  -  \n",
            "_____|_____|_____\n",
            "     |     |     \n",
            "  -  |  X  |  O  \n",
            "_____|_____|_____\n",
            "     |     |     \n",
            "  X  |  -  |  -  \n",
            "     |     |     \n",
            "\n",
            "     |     |     \n",
            "  -  |  -  |  O  \n",
            "_____|_____|_____\n",
            "     |     |     \n",
            "  -  |  X  |  O  \n",
            "_____|_____|_____\n",
            "     |     |     \n",
            "  X  |  -  |  -  \n",
            "     |     |     \n",
            "\n",
            "     |     |     \n",
            "  -  |  -  |  O  \n",
            "_____|_____|_____\n",
            "     |     |     \n",
            "  -  |  X  |  O  \n",
            "_____|_____|_____\n",
            "     |     |     \n",
            "  X  |  -  |  X  \n",
            "     |     |     \n",
            "\n",
            "     |     |     \n",
            "  O  |  -  |  O  \n",
            "_____|_____|_____\n",
            "     |     |     \n",
            "  -  |  X  |  O  \n",
            "_____|_____|_____\n",
            "     |     |     \n",
            "  X  |  -  |  X  \n",
            "     |     |     \n",
            "\n",
            "     |     |     \n",
            "  O  |  -  |  O  \n",
            "_____|_____|_____\n",
            "     |     |     \n",
            "  -  |  X  |  O  \n",
            "_____|_____|_____\n",
            "     |     |     \n",
            "  X  |  X  |  X  \n",
            "     |     |     \n",
            "\n",
            "     |     |     \n",
            "  O  |  -  |  O  \n",
            "_____|_____|_____\n",
            "     |     |     \n",
            "  -  |  X  |  O  \n",
            "_____|_____|_____\n",
            "     |     |     \n",
            "  X  |  X  |  X  \n",
            "     |     |     \n",
            "\n",
            "     |     |     \n",
            "  O  |  -  |  O  \n",
            "_____|_____|_____\n",
            "     |     |     \n",
            "  -  |  X  |  O  \n",
            "_____|_____|_____\n",
            "     |     |     \n",
            "  X  |  X  |  X  \n",
            "     |     |     \n",
            "\n",
            "-= Game 2 =-\n",
            "     |     |     \n",
            "  -  |  -  |  -  \n",
            "_____|_____|_____\n",
            "     |     |     \n",
            "  -  |  -  |  -  \n",
            "_____|_____|_____\n",
            "     |     |     \n",
            "  X  |  -  |  -  \n",
            "     |     |     \n",
            "\n",
            "     |     |     \n",
            "  -  |  -  |  -  \n",
            "_____|_____|_____\n",
            "     |     |     \n",
            "  -  |  -  |  O  \n",
            "_____|_____|_____\n",
            "     |     |     \n",
            "  X  |  -  |  -  \n",
            "     |     |     \n",
            "\n",
            "     |     |     \n",
            "  -  |  -  |  -  \n",
            "_____|_____|_____\n",
            "     |     |     \n",
            "  -  |  X  |  O  \n",
            "_____|_____|_____\n",
            "     |     |     \n",
            "  X  |  -  |  -  \n",
            "     |     |     \n",
            "\n",
            "     |     |     \n",
            "  -  |  -  |  O  \n",
            "_____|_____|_____\n",
            "     |     |     \n",
            "  -  |  X  |  O  \n",
            "_____|_____|_____\n",
            "     |     |     \n",
            "  X  |  -  |  -  \n",
            "     |     |     \n",
            "\n",
            "     |     |     \n",
            "  -  |  -  |  O  \n",
            "_____|_____|_____\n",
            "     |     |     \n",
            "  -  |  X  |  O  \n",
            "_____|_____|_____\n",
            "     |     |     \n",
            "  X  |  -  |  X  \n",
            "     |     |     \n",
            "\n",
            "     |     |     \n",
            "  O  |  -  |  O  \n",
            "_____|_____|_____\n",
            "     |     |     \n",
            "  -  |  X  |  O  \n",
            "_____|_____|_____\n",
            "     |     |     \n",
            "  X  |  -  |  X  \n",
            "     |     |     \n",
            "\n",
            "     |     |     \n",
            "  O  |  -  |  O  \n",
            "_____|_____|_____\n",
            "     |     |     \n",
            "  -  |  X  |  O  \n",
            "_____|_____|_____\n",
            "     |     |     \n",
            "  X  |  X  |  X  \n",
            "     |     |     \n",
            "\n",
            "     |     |     \n",
            "  O  |  -  |  O  \n",
            "_____|_____|_____\n",
            "     |     |     \n",
            "  -  |  X  |  O  \n",
            "_____|_____|_____\n",
            "     |     |     \n",
            "  X  |  X  |  X  \n",
            "     |     |     \n",
            "\n",
            "     |     |     \n",
            "  O  |  -  |  O  \n",
            "_____|_____|_____\n",
            "     |     |     \n",
            "  -  |  X  |  O  \n",
            "_____|_____|_____\n",
            "     |     |     \n",
            "  X  |  X  |  X  \n",
            "     |     |     \n",
            "\n",
            "The first player wins 100.0 % of the time, the second player wins 0.0 % of the time, and the game is a draw 0.0 % of the time.\n",
            "Total : 100.0 %\n"
          ]
        },
        {
          "output_type": "stream",
          "name": "stderr",
          "text": [
            "/usr/local/lib/python3.7/dist-packages/pettingzoo/utils/wrappers/base.py:52: UserWarning: The `action_spaces` dictionary is deprecated. Use the `action_space` function instead.\n",
            "  warnings.warn(\"The `action_spaces` dictionary is deprecated. Use the `action_space` function instead.\")\n"
          ]
        },
        {
          "output_type": "execute_result",
          "data": {
            "text/plain": [
              "{'player_1': 2.0, 'player_2': 0.0}"
            ]
          },
          "metadata": {},
          "execution_count": 29
        }
      ]
    },
    {
      "cell_type": "markdown",
      "source": [
        "### Random vs trained"
      ],
      "metadata": {
        "id": "QZNPzPeSjqMB"
      },
      "id": "QZNPzPeSjqMB"
    },
    {
      "cell_type": "code",
      "source": [
        "test_policy(Q, 5_000, verbose=True, players_type={'player_1' : 'random', 'player_2' : 'Q'})"
      ],
      "metadata": {
        "colab": {
          "base_uri": "https://localhost:8080/"
        },
        "id": "Qx1DL2fZjuwL",
        "outputId": "7b2e29cd-0d75-4362-de23-71fd10e5bfc2"
      },
      "id": "Qx1DL2fZjuwL",
      "execution_count": null,
      "outputs": [
        {
          "output_type": "stream",
          "name": "stderr",
          "text": [
            "/usr/local/lib/python3.7/dist-packages/pettingzoo/utils/wrappers/base.py:52: UserWarning: The `action_spaces` dictionary is deprecated. Use the `action_space` function instead.\n",
            "  warnings.warn(\"The `action_spaces` dictionary is deprecated. Use the `action_space` function instead.\")\n"
          ]
        },
        {
          "output_type": "stream",
          "name": "stdout",
          "text": [
            "The first player wins 0.6 % of the time, the second player wins 85.44 % of the time, and the game is a draw 13.96 % of the time.\n",
            "Total : 100.0 %\n"
          ]
        },
        {
          "output_type": "execute_result",
          "data": {
            "text/plain": [
              "{'player_1': 30.0, 'player_2': 4272.0}"
            ]
          },
          "metadata": {},
          "execution_count": 18
        }
      ]
    },
    {
      "cell_type": "markdown",
      "metadata": {
        "id": "uT8ULD-6m8mO"
      },
      "source": [
        "## Analyses supplémentaires"
      ],
      "id": "uT8ULD-6m8mO"
    },
    {
      "cell_type": "markdown",
      "source": [
        "### Learning against random"
      ],
      "metadata": {
        "id": "TTzKLqIlogjC"
      },
      "id": "TTzKLqIlogjC"
    },
    {
      "cell_type": "code",
      "metadata": {
        "id": "28FPaiS7nBQ0",
        "colab": {
          "base_uri": "https://localhost:8080/",
          "height": 338
        },
        "outputId": "ef79b8e6-fae1-459d-a46a-bc08a3871fc5"
      },
      "source": [
        "Q_rand = learn(budget = 50_000, plot=True, players_type={'player_1' : 'Q', 'player_2' : 'random'},nbplot_points=1000, nbplot=10, plot_sma_len=20)"
      ],
      "id": "28FPaiS7nBQ0",
      "execution_count": null,
      "outputs": [
        {
          "output_type": "stream",
          "name": "stdout",
          "text": [
            "mkdir: cannot create directory ‘cached’: File exists\n",
            "Fullrun\n"
          ]
        },
        {
          "output_type": "stream",
          "name": "stderr",
          "text": [
            "/usr/local/lib/python3.7/dist-packages/pettingzoo/utils/wrappers/base.py:52: UserWarning: The `action_spaces` dictionary is deprecated. Use the `action_space` function instead.\n",
            "  warnings.warn(\"The `action_spaces` dictionary is deprecated. Use the `action_space` function instead.\")\n"
          ]
        },
        {
          "output_type": "display_data",
          "data": {
            "image/png": "[encoded data removed]",
            "text/plain": [
              "<Figure size 432x288 with 1 Axes>"
            ]
          },
          "metadata": {
            "needs_background": "light"
          }
        }
      ]
    },
    {
      "cell_type": "code",
      "source": [
        "_ = learn(5_000, plot=True, nbplot=10, nbplot_points=1000, players_type={'player_1' : 'Q', 'player_2' : 'random'}, plot_sma_len=20)"
      ],
      "metadata": {
        "colab": {
          "base_uri": "https://localhost:8080/",
          "height": 340
        },
        "id": "93w4DfHgidpy",
        "outputId": "1dda5251-afe3-4db7-ad99-ba3b68777075"
      },
      "id": "93w4DfHgidpy",
      "execution_count": null,
      "outputs": [
        {
          "output_type": "stream",
          "name": "stdout",
          "text": [
            "mkdir: cannot create directory ‘cached’: File exists\n",
            "Fullrun\n"
          ]
        },
        {
          "output_type": "stream",
          "name": "stderr",
          "text": [
            "/usr/local/lib/python3.7/dist-packages/pettingzoo/utils/wrappers/base.py:52: UserWarning: The `action_spaces` dictionary is deprecated. Use the `action_space` function instead.\n",
            "  warnings.warn(\"The `action_spaces` dictionary is deprecated. Use the `action_space` function instead.\")\n"
          ]
        },
        {
          "output_type": "display_data",
          "data": {
            "image/png": "[encoded data removed]",
            "text/plain": [
              "<Figure size 432x288 with 1 Axes>"
            ]
          },
          "metadata": {
            "needs_background": "light"
          }
        }
      ]
    },
    {
      "cell_type": "markdown",
      "source": [
        "#### Test against trained agent"
      ],
      "metadata": {
        "id": "XvWuPho5ijOS"
      },
      "id": "XvWuPho5ijOS"
    },
    {
      "cell_type": "code",
      "source": [
        "test_policy({'player_1' : Q_rand['player_1'], 'player_2' : Q['player_2']}, 5_000, verbose=True, players_type={'player_1' : 'Q', 'player_2' : 'Q'})"
      ],
      "metadata": {
        "colab": {
          "base_uri": "https://localhost:8080/"
        },
        "id": "M88_O3UViRv6",
        "outputId": "6ca03d17-09b7-4164-d805-e2ecf3e8f2fc"
      },
      "id": "M88_O3UViRv6",
      "execution_count": null,
      "outputs": [
        {
          "output_type": "stream",
          "name": "stderr",
          "text": [
            "/usr/local/lib/python3.7/dist-packages/pettingzoo/utils/wrappers/base.py:52: UserWarning: The `action_spaces` dictionary is deprecated. Use the `action_space` function instead.\n",
            "  warnings.warn(\"The `action_spaces` dictionary is deprecated. Use the `action_space` function instead.\")\n"
          ]
        },
        {
          "output_type": "stream",
          "name": "stdout",
          "text": [
            "The first player wins 0.0 % of the time, the second player wins 0.0 % of the time, and the game is a draw 100.0 % of the time.\n",
            "Total : 100.0 %\n"
          ]
        },
        {
          "output_type": "execute_result",
          "data": {
            "text/plain": [
              "{'player_1': 0.0, 'player_2': 0.0}"
            ]
          },
          "metadata": {},
          "execution_count": 74
        }
      ]
    },
    {
      "cell_type": "code",
      "source": [
        "test_policy(Q_rand, 5_000, verbose=True, players_type={'player_1' : 'Q', 'player_2' : 'random'})"
      ],
      "metadata": {
        "colab": {
          "base_uri": "https://localhost:8080/"
        },
        "id": "YXZv5Nr2FduS",
        "outputId": "bb2ba817-5432-41cd-e04a-d1fd5324991e"
      },
      "id": "YXZv5Nr2FduS",
      "execution_count": null,
      "outputs": [
        {
          "output_type": "stream",
          "name": "stderr",
          "text": [
            "/usr/local/lib/python3.7/dist-packages/pettingzoo/utils/wrappers/base.py:52: UserWarning: The `action_spaces` dictionary is deprecated. Use the `action_space` function instead.\n",
            "  warnings.warn(\"The `action_spaces` dictionary is deprecated. Use the `action_space` function instead.\")\n"
          ]
        },
        {
          "output_type": "stream",
          "name": "stdout",
          "text": [
            "The first player wins 98.61999999999999 % of the time, the second player wins 0.0 % of the time, and the game is a draw 1.38 % of the time.\n",
            "Total : 99.99999999999999 %\n"
          ]
        },
        {
          "output_type": "execute_result",
          "data": {
            "text/plain": [
              "{'player_1': 4931.0, 'player_2': 0.0}"
            ]
          },
          "metadata": {},
          "execution_count": 75
        }
      ]
    },
    {
      "cell_type": "markdown",
      "metadata": {
        "id": "n5VyqmxlG1j1"
      },
      "source": [
        "## License\n",
        "\n",
        "The code in this notebook is copyrighted by Gertjan Verhoeven and licensed under the new BSD (3-clause) license:\n",
        "\n",
        "https://opensource.org/licenses/BSD-3-Clause\n",
        "\n",
        "The text and figures in this notebook (if any) are copyrighted by Gertjan Verhoeven and licensed under the CC BY-NC 4.0 license:\n",
        "\n",
        "https://creativecommons.org/licenses/by-nc/4.0/"
      ],
      "id": "n5VyqmxlG1j1"
    },
    {
      "cell_type": "code",
      "source": [
        ""
      ],
      "metadata": {
        "id": "dsAQeOamjUeB"
      },
      "id": "dsAQeOamjUeB",
      "execution_count": null,
      "outputs": []
    }
  ]
}